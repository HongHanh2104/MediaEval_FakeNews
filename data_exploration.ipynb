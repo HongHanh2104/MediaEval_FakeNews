{
 "cells": [
  {
   "cell_type": "code",
   "execution_count": 1,
   "metadata": {},
   "outputs": [],
   "source": [
    "import os\n",
    "import numpy as np\n",
    "import json\n",
    "from PIL import Image\n",
    "import matplotlib.pyplot as plt\n",
    "import random\n",
    "import pandas as pd\n",
    "import seaborn as sns"
   ]
  },
  {
   "cell_type": "markdown",
   "metadata": {},
   "source": [
    "## Convert all images to .png format"
   ]
  },
  {
   "cell_type": "code",
   "execution_count": null,
   "metadata": {},
   "outputs": [],
   "source": [
    "root_path = '/media/honghanh/STORED_DATA/DATA/2020-Fake-News-Detection-Task-master/FakeNews'\n",
    "img_folder = 'images'\n",
    "new_folder = 'new_images'"
   ]
  },
  {
   "cell_type": "code",
   "execution_count": null,
   "metadata": {},
   "outputs": [],
   "source": [
    "img_list = os.listdir(os.path.join(root_path, img_folder))\n",
    "path = os.path.join(root_path, new_folder)\n",
    "if not os.path.exists(path):\n",
    "    os.mkdir(os.path.join(root_path, new_folder))\n",
    "for i in range(len(img_list)):\n",
    "    img_path = os.path.join(root_path, img_folder, img_list[i])\n",
    "    img = Image.open(img_path)\n",
    "    #path = os.path.join(root_path, new_folder)\n",
    "    img_name = img_list[i].split('.')[0]\n",
    "    img.save(path + '/' + img_name + '.png')"
   ]
  },
  {
   "cell_type": "code",
   "execution_count": null,
   "metadata": {},
   "outputs": [],
   "source": [
    "new_img_list = os.listdir(os.path.join(root_path, new_folder))\n",
    "assert len(img_list) == len(new_img_list), \"Error\""
   ]
  },
  {
   "cell_type": "markdown",
   "metadata": {},
   "source": [
    "## Explore data"
   ]
  },
  {
   "cell_type": "code",
   "execution_count": null,
   "metadata": {},
   "outputs": [],
   "source": [
    "files = ['5g_corona_conspiracy.json', 'non_conspiracy.json', 'other_conspiracy.json']"
   ]
  },
  {
   "cell_type": "markdown",
   "metadata": {},
   "source": [
    "#### 5g_corona_conspiracy"
   ]
  },
  {
   "cell_type": "code",
   "execution_count": null,
   "metadata": {},
   "outputs": [],
   "source": [
    "file_path = os.path.join(root_path, files[0])\n",
    "with open(file_path) as f:\n",
    "    data = json.load(f)\n",
    "data[0].keys()"
   ]
  },
  {
   "cell_type": "code",
   "execution_count": null,
   "metadata": {},
   "outputs": [],
   "source": [
    "data[0]"
   ]
  },
  {
   "cell_type": "code",
   "execution_count": null,
   "metadata": {},
   "outputs": [],
   "source": [
    "val = random.choices(data, k=20)\n",
    "for i in range(len(val)):\n",
    "    text = data[i]['full_text']\n",
    "    name = data[i]['id_str'] + '.png'\n",
    "    path = os.path.join(root_path, new_folder, name)\n",
    "    if os.path.exists(path):\n",
    "        print(str(i) + ': #########################')\n",
    "        print(text)\n",
    "        img = Image.open(path)\n",
    "        plt.imshow(img)\n",
    "        plt.show()\n",
    "    "
   ]
  },
  {
   "cell_type": "markdown",
   "metadata": {},
   "source": [
    "### non_conspiracy"
   ]
  },
  {
   "cell_type": "code",
   "execution_count": null,
   "metadata": {},
   "outputs": [],
   "source": [
    "file_path = os.path.join(root_path, files[1])\n",
    "with open(file_path) as f:\n",
    "    data = json.load(f)\n",
    "val = random.choices(data, k=20)\n",
    "for i in range(len(val)):\n",
    "    text = data[i]['full_text']\n",
    "    name = data[i]['id_str'] + '.png'\n",
    "    path = os.path.join(root_path, new_folder, name)\n",
    "    if os.path.exists(path):\n",
    "        print(str(i) + ': #########################')\n",
    "        print(text)\n",
    "        img = Image.open(path)\n",
    "        plt.imshow(img)\n",
    "        plt.show()"
   ]
  },
  {
   "cell_type": "markdown",
   "metadata": {},
   "source": [
    "### other_conspiracy"
   ]
  },
  {
   "cell_type": "code",
   "execution_count": null,
   "metadata": {},
   "outputs": [],
   "source": [
    "file_path = os.path.join(root_path, files[2])\n",
    "with open(file_path) as f:\n",
    "    data = json.load(f)\n",
    "val = random.choices(data, k=20)\n",
    "for i in range(len(val)):\n",
    "    text = data[i]['full_text']\n",
    "    name = data[i]['id_str'] + '.png'\n",
    "    path = os.path.join(root_path, new_folder, name)\n",
    "    if os.path.exists(path):\n",
    "        print(str(i) + ': #########################')\n",
    "        print(text)\n",
    "        img = Image.open(path)\n",
    "        plt.imshow(img)\n",
    "        plt.show()"
   ]
  },
  {
   "cell_type": "markdown",
   "metadata": {},
   "source": [
    "## Data Analysis"
   ]
  },
  {
   "cell_type": "code",
   "execution_count": 2,
   "metadata": {},
   "outputs": [],
   "source": [
    "from ekphrasis.classes.segmenter import Segmenter\n",
    "root_path = './data'\n",
    "train_filename = 'cleaned_train_train.csv'\n",
    "val_filename = 'cleaned_train_val.csv'\n",
    "train_df = pd.read_csv(os.path.join(root_path, train_filename))\n",
    "val_df = pd.read_csv(os.path.join(root_path, val_filename))"
   ]
  },
  {
   "cell_type": "code",
   "execution_count": 3,
   "metadata": {},
   "outputs": [
    {
     "data": {
      "text/html": [
       "<div>\n",
       "<style scoped>\n",
       "    .dataframe tbody tr th:only-of-type {\n",
       "        vertical-align: middle;\n",
       "    }\n",
       "\n",
       "    .dataframe tbody tr th {\n",
       "        vertical-align: top;\n",
       "    }\n",
       "\n",
       "    .dataframe thead th {\n",
       "        text-align: right;\n",
       "    }\n",
       "</style>\n",
       "<table border=\"1\" class=\"dataframe\">\n",
       "  <thead>\n",
       "    <tr style=\"text-align: right;\">\n",
       "      <th></th>\n",
       "      <th>ID</th>\n",
       "      <th>Text</th>\n",
       "      <th>Label</th>\n",
       "      <th>hashtag</th>\n",
       "      <th>Cleaned_Text</th>\n",
       "      <th>Unstop_Text</th>\n",
       "    </tr>\n",
       "  </thead>\n",
       "  <tbody>\n",
       "    <tr>\n",
       "      <th>0</th>\n",
       "      <td>1258541410896146433</td>\n",
       "      <td>@PlanDemicCorony @Kompadontgiveup I did a vide...</td>\n",
       "      <td>1</td>\n",
       "      <td>[]</td>\n",
       "      <td>i did a video on this a while ago also the ne...</td>\n",
       "      <td>video ago also new euros corona 5g towers yout...</td>\n",
       "    </tr>\n",
       "    <tr>\n",
       "      <th>1</th>\n",
       "      <td>1247573119579062277</td>\n",
       "      <td>Why doesn’t OFCOM want media to discuss allege...</td>\n",
       "      <td>1</td>\n",
       "      <td>['Orwellian']</td>\n",
       "      <td>why doesn’t ofcom want media to discuss allege...</td>\n",
       "      <td>’ ofcom want media discuss alleged links 5g co...</td>\n",
       "    </tr>\n",
       "    <tr>\n",
       "      <th>2</th>\n",
       "      <td>1246194340906614789</td>\n",
       "      <td>#AfricaNotAExperimentalLab. They decided to la...</td>\n",
       "      <td>1</td>\n",
       "      <td>['AfricaNotAExperimentalLab', '5G', 'covid', '...</td>\n",
       "      <td>they decided to launch 5g in the midst of 19 ...</td>\n",
       "      <td>decided launch 5g midst epidemic w wont protes...</td>\n",
       "    </tr>\n",
       "    <tr>\n",
       "      <th>3</th>\n",
       "      <td>1247188565450272774</td>\n",
       "      <td>Some people say COVID-19 is from bars. Others ...</td>\n",
       "      <td>1</td>\n",
       "      <td>[]</td>\n",
       "      <td>some people say covid19 is from bars others sa...</td>\n",
       "      <td>people say covid19 bars others say ’ 5g cell t...</td>\n",
       "    </tr>\n",
       "    <tr>\n",
       "      <th>4</th>\n",
       "      <td>1245873817010024448</td>\n",
       "      <td>people thinking 5g causing cancer/corona when ...</td>\n",
       "      <td>1</td>\n",
       "      <td>[]</td>\n",
       "      <td>people thinking 5g causing cancercorona when i...</td>\n",
       "      <td>people thinking 5g causing cancercorona ’ noni...</td>\n",
       "    </tr>\n",
       "  </tbody>\n",
       "</table>\n",
       "</div>"
      ],
      "text/plain": [
       "                    ID                                               Text  \\\n",
       "0  1258541410896146433  @PlanDemicCorony @Kompadontgiveup I did a vide...   \n",
       "1  1247573119579062277  Why doesn’t OFCOM want media to discuss allege...   \n",
       "2  1246194340906614789  #AfricaNotAExperimentalLab. They decided to la...   \n",
       "3  1247188565450272774  Some people say COVID-19 is from bars. Others ...   \n",
       "4  1245873817010024448  people thinking 5g causing cancer/corona when ...   \n",
       "\n",
       "   Label                                            hashtag  \\\n",
       "0      1                                                 []   \n",
       "1      1                                      ['Orwellian']   \n",
       "2      1  ['AfricaNotAExperimentalLab', '5G', 'covid', '...   \n",
       "3      1                                                 []   \n",
       "4      1                                                 []   \n",
       "\n",
       "                                        Cleaned_Text  \\\n",
       "0   i did a video on this a while ago also the ne...   \n",
       "1  why doesn’t ofcom want media to discuss allege...   \n",
       "2   they decided to launch 5g in the midst of 19 ...   \n",
       "3  some people say covid19 is from bars others sa...   \n",
       "4  people thinking 5g causing cancercorona when i...   \n",
       "\n",
       "                                         Unstop_Text  \n",
       "0  video ago also new euros corona 5g towers yout...  \n",
       "1  ’ ofcom want media discuss alleged links 5g co...  \n",
       "2  decided launch 5g midst epidemic w wont protes...  \n",
       "3  people say covid19 bars others say ’ 5g cell t...  \n",
       "4  people thinking 5g causing cancercorona ’ noni...  "
      ]
     },
     "execution_count": 3,
     "metadata": {},
     "output_type": "execute_result"
    }
   ],
   "source": [
    "val_df.head(5)"
   ]
  },
  {
   "cell_type": "code",
   "execution_count": 4,
   "metadata": {},
   "outputs": [
    {
     "name": "stdout",
     "output_type": "stream",
     "text": [
      "message kcctech leadership covid19 coronavirus global epidemic amp emergency unicaciones 5g coronavirus munications ########## 3\n",
      "##################################################\n",
      "A Message from KCCTech Leadership during the COVID-19 (CoronaVirus) Global Epidemic &amp; Emergency...\n",
      "#kcctech #4g #3g #telecom #telecomunicaciones #verizon #5g #Pandemic #Epidemic #coronavirus #Covid19 #Telecommunications #Carriers #services https://t.co/4DeH3Jo5Hq\n"
     ]
    }
   ],
   "source": [
    "print(train_df['Unstop_Text'][1587], '#'*10, train_df['Label'][4043])\n",
    "print('#'*50)\n",
    "print(train_df['Text'][1587])"
   ]
  },
  {
   "cell_type": "code",
   "execution_count": 5,
   "metadata": {},
   "outputs": [
    {
     "data": {
      "text/plain": [
       "<matplotlib.axes._subplots.AxesSubplot at 0x7eff8ba49c10>"
      ]
     },
     "execution_count": 5,
     "metadata": {},
     "output_type": "execute_result"
    },
    {
     "data": {
      "image/png": "[encoded data removed]",
      "text/plain": [
       "<Figure size 432x288 with 1 Axes>"
      ]
     },
     "metadata": {
      "needs_background": "light"
     },
     "output_type": "display_data"
    }
   ],
   "source": [
    "sns.countplot(x='Label', data=val_df, palette='hls')"
   ]
  },
  {
   "cell_type": "code",
   "execution_count": 6,
   "metadata": {},
   "outputs": [
    {
     "data": {
      "text/plain": [
       "<matplotlib.axes._subplots.AxesSubplot at 0x7eff8ac91c50>"
      ]
     },
     "execution_count": 6,
     "metadata": {},
     "output_type": "execute_result"
    },
    {
     "data": {
      "image/png": "[encoded data removed]",
      "text/plain": [
       "<Figure size 432x288 with 1 Axes>"
      ]
     },
     "metadata": {
      "needs_background": "light"
     },
     "output_type": "display_data"
    }
   ],
   "source": [
    "sns.countplot(x='Label', data=train_df, palette='hls')"
   ]
  },
  {
   "cell_type": "markdown",
   "metadata": {},
   "source": [
    "## Count the frequency of words"
   ]
  },
  {
   "cell_type": "markdown",
   "metadata": {},
   "source": [
    "### Train dataset"
   ]
  },
  {
   "cell_type": "code",
   "execution_count": 7,
   "metadata": {},
   "outputs": [],
   "source": [
    "from sklearn.feature_extraction.text import CountVectorizer\n",
    "from sklearn.feature_extraction.text import TfidfTransformer\n",
    "from sklearn.feature_extraction.text import TfidfVectorizer"
   ]
  },
  {
   "cell_type": "code",
   "execution_count": 8,
   "metadata": {},
   "outputs": [],
   "source": [
    "def count_frequence(data):\n",
    "    counter = CountVectorizer()\n",
    "    train_counter = counter.fit_transform(data.values)\n",
    "    word_list = counter.get_feature_names()\n",
    "    count_list = train_counter.toarray().sum(axis=0)\n",
    "    train_count_dict = dict(zip(word_list, count_list))\n",
    "    return train_counter, {key: val for key, val in sorted(train_count_dict.items(), key=lambda item: item[1], reverse=True)}"
   ]
  },
  {
   "cell_type": "code",
   "execution_count": null,
   "metadata": {},
   "outputs": [],
   "source": []
  },
  {
   "cell_type": "code",
   "execution_count": 9,
   "metadata": {},
   "outputs": [
    {
     "data": {
      "text/plain": [
       "[('5g', 1183),\n",
       " ('coronavirus', 363),\n",
       " ('virus', 218),\n",
       " ('covid19', 189),\n",
       " ('people', 178),\n",
       " ('corona', 151),\n",
       " ('wuhan', 140),\n",
       " ('amp', 131),\n",
       " ('towers', 107),\n",
       " ('world', 105)]"
      ]
     },
     "execution_count": 9,
     "metadata": {},
     "output_type": "execute_result"
    }
   ],
   "source": [
    "label1_cvec, train_label1_counter = count_frequence(train_df[train_df['Label'] == 1]['Unstop_Text'])\n",
    "top_10 = list(train_label1_counter.items())[:10]\n",
    "top_10"
   ]
  },
  {
   "cell_type": "code",
   "execution_count": 10,
   "metadata": {},
   "outputs": [
    {
     "data": {
      "text/plain": [
       "[('5g', 479),\n",
       " ('coronavirus', 143),\n",
       " ('amp', 98),\n",
       " ('virus', 96),\n",
       " ('people', 94),\n",
       " ('corona', 77),\n",
       " ('us', 70),\n",
       " ('covid19', 65),\n",
       " ('world', 64),\n",
       " ('china', 49)]"
      ]
     },
     "execution_count": 10,
     "metadata": {},
     "output_type": "execute_result"
    }
   ],
   "source": [
    "label2_cvec, train_label2_counter = count_frequence(train_df[train_df['Label'] == 2]['Unstop_Text'])\n",
    "top_10 = list(train_label2_counter.items())[:10]\n",
    "top_10"
   ]
  },
  {
   "cell_type": "code",
   "execution_count": 11,
   "metadata": {},
   "outputs": [
    {
     "data": {
      "text/plain": [
       "[('5g', 2272),\n",
       " ('coronavirus', 1193),\n",
       " ('people', 699),\n",
       " ('conspiracy', 494),\n",
       " ('covid19', 474),\n",
       " ('amp', 347),\n",
       " ('virus', 329),\n",
       " ('corona', 267),\n",
       " ('think', 248),\n",
       " ('us', 248)]"
      ]
     },
     "execution_count": 11,
     "metadata": {},
     "output_type": "execute_result"
    }
   ],
   "source": [
    "label3_cvec, train_label3_counter = count_frequence(train_df[train_df['Label'] == 3]['Unstop_Text'])\n",
    "top_10 = list(train_label3_counter.items())[:10]\n",
    "top_10"
   ]
  },
  {
   "cell_type": "markdown",
   "metadata": {},
   "source": [
    "## Count part of speech"
   ]
  },
  {
   "cell_type": "code",
   "execution_count": 13,
   "metadata": {},
   "outputs": [],
   "source": [
    "from nltk.corpus import brown\n",
    "from collections import Counter\n",
    "import nltk\n",
    "#nltk.download('averaged_perceptron_tagger')"
   ]
  },
  {
   "cell_type": "code",
   "execution_count": 14,
   "metadata": {},
   "outputs": [],
   "source": [
    "def count_SOP(data):\n",
    "    counts = Counter()\n",
    "    for sentence in data:\n",
    "        tokens = nltk.word_tokenize(sentence)\n",
    "        tags = nltk.pos_tag(tokens)\n",
    "        counts.update(tag for word, tag in tags)\n",
    "    return dict(counts)"
   ]
  },
  {
   "cell_type": "code",
   "execution_count": 15,
   "metadata": {},
   "outputs": [],
   "source": [
    "def find_common_SOP(adict):\n",
    "    new_dict = {\n",
    "        'Noun': 0,\n",
    "        'Verb': 0,\n",
    "        'ADJ': 0,\n",
    "        'ADV': 0,\n",
    "        'PREP': 0,\n",
    "    }\n",
    "    for k, v in adict.items():\n",
    "        if k in ['NN', 'NNS', 'NNP', 'NNPS']:\n",
    "            new_dict['Noun'] += v\n",
    "        elif k in ['TO', 'VB', 'VBD', 'VBG', 'VBN', 'VBP', 'VBZ']:\n",
    "            new_dict['Verb'] += v\n",
    "        elif k in ['JJ', 'JJR', 'JJS']:\n",
    "            new_dict['ADJ'] += v\n",
    "        elif k in ['RB', 'RBR', 'RBS']:\n",
    "            new_dict['ADV'] += v\n",
    "        elif k in ['IN', 'CC']:\n",
    "            new_dict['PREP'] += v\n",
    "    return new_dict"
   ]
  },
  {
   "cell_type": "code",
   "execution_count": 16,
   "metadata": {},
   "outputs": [],
   "source": [
    "def draw_sop_count(adict):\n",
    "    keys = adict.keys()\n",
    "    values = adict.values()\n",
    "    plt.bar(keys, values)\n",
    "    plt.show()"
   ]
  },
  {
   "cell_type": "code",
   "execution_count": 17,
   "metadata": {},
   "outputs": [],
   "source": [
    "train_label1_sop = find_common_SOP(count_SOP(train_df[train_df['Label'] == 1]['Unstop_Text']))\n",
    "train_label2_sop = find_common_SOP(count_SOP(train_df[train_df['Label'] == 2]['Unstop_Text']))\n",
    "train_label3_sop = find_common_SOP(count_SOP(train_df[train_df['Label'] == 3]['Unstop_Text']))"
   ]
  },
  {
   "cell_type": "code",
   "execution_count": 18,
   "metadata": {},
   "outputs": [
    {
     "data": {
      "image/png": "[encoded data removed]",
      "text/plain": [
       "<Figure size 432x288 with 1 Axes>"
      ]
     },
     "metadata": {
      "needs_background": "light"
     },
     "output_type": "display_data"
    }
   ],
   "source": [
    "draw_sop_count(train_label1_sop)"
   ]
  },
  {
   "cell_type": "code",
   "execution_count": 19,
   "metadata": {},
   "outputs": [
    {
     "data": {
      "image/png": "[encoded data removed]",
      "text/plain": [
       "<Figure size 432x288 with 1 Axes>"
      ]
     },
     "metadata": {
      "needs_background": "light"
     },
     "output_type": "display_data"
    }
   ],
   "source": [
    "draw_sop_count(train_label2_sop)"
   ]
  },
  {
   "cell_type": "code",
   "execution_count": 20,
   "metadata": {},
   "outputs": [
    {
     "data": {
      "image/png": "[encoded data removed]",
      "text/plain": [
       "<Figure size 432x288 with 1 Axes>"
      ]
     },
     "metadata": {
      "needs_background": "light"
     },
     "output_type": "display_data"
    }
   ],
   "source": [
    "draw_sop_count(train_label3_sop)"
   ]
  },
  {
   "cell_type": "code",
   "execution_count": 21,
   "metadata": {},
   "outputs": [
    {
     "name": "stdout",
     "output_type": "stream",
     "text": [
      "(915, 4436)\n",
      "(575, 3965)\n",
      "(3368, 11473)\n"
     ]
    }
   ],
   "source": [
    "print(label1_cvec.shape)\n",
    "print(label2_cvec.shape)\n",
    "print(label3_cvec.shape)"
   ]
  },
  {
   "cell_type": "markdown",
   "metadata": {},
   "source": [
    "# TF-IDF"
   ]
  },
  {
   "cell_type": "code",
   "execution_count": 22,
   "metadata": {},
   "outputs": [],
   "source": [
    "#train_cvec, counter = count_frequence(train_df['Unstop_Text'])"
   ]
  },
  {
   "cell_type": "code",
   "execution_count": 33,
   "metadata": {},
   "outputs": [
    {
     "data": {
      "text/plain": [
       "(6074, 6)"
      ]
     },
     "execution_count": 33,
     "metadata": {},
     "output_type": "execute_result"
    }
   ],
   "source": [
    "df = train_df\n",
    "df = df.append(val_df)\n",
    "df.shape"
   ]
  },
  {
   "cell_type": "code",
   "execution_count": 35,
   "metadata": {},
   "outputs": [],
   "source": [
    "tfidf_vectorizer = TfidfVectorizer(stop_words='english', ngram_range=(1,2), use_idf=True, smooth_idf=True)\n",
    "tfidf_vectors = tfidf_vectorizer.fit_transform(df['Unstop_Text'])\n",
    "#val_tfidf_vectors = tfidf_vectorizer.fit_transform(val_df['Unstop_Text'])"
   ]
  },
  {
   "cell_type": "code",
   "execution_count": 40,
   "metadata": {},
   "outputs": [],
   "source": [
    "train_features, test_features = tfidf_vectors[:4858,], tfidf_vectors[4859:,]\n",
    "train_labels, test_labels = df['Label'][:4858], df['Label'][4859:]"
   ]
  },
  {
   "cell_type": "code",
   "execution_count": 37,
   "metadata": {},
   "outputs": [],
   "source": [
    "from sklearn import linear_model"
   ]
  },
  {
   "cell_type": "code",
   "execution_count": 41,
   "metadata": {},
   "outputs": [],
   "source": [
    "logistic = linear_model.LogisticRegression()\n",
    "logistic_net = logistic.fit(train_features, train_labels)"
   ]
  },
  {
   "cell_type": "code",
   "execution_count": 42,
   "metadata": {},
   "outputs": [
    {
     "data": {
      "text/plain": [
       "0.7366255144032922"
      ]
     },
     "execution_count": 42,
     "metadata": {},
     "output_type": "execute_result"
    }
   ],
   "source": [
    "logistic_net.score(test_features, test_labels)"
   ]
  },
  {
   "cell_type": "code",
   "execution_count": 50,
   "metadata": {},
   "outputs": [],
   "source": [
    "pred = logistic_net.predict(test_features)\n"
   ]
  },
  {
   "cell_type": "code",
   "execution_count": 45,
   "metadata": {},
   "outputs": [],
   "source": [
    "from sklearn.naive_bayes import MultinomialNB"
   ]
  },
  {
   "cell_type": "code",
   "execution_count": 46,
   "metadata": {},
   "outputs": [
    {
     "data": {
      "text/plain": [
       "0.6995884773662552"
      ]
     },
     "execution_count": 46,
     "metadata": {},
     "output_type": "execute_result"
    }
   ],
   "source": [
    "mnb = MultinomialNB()\n",
    "mnb.fit(train_features, train_labels)\n",
    "mnb.score(test_features, test_labels)"
   ]
  },
  {
   "cell_type": "code",
   "execution_count": 47,
   "metadata": {},
   "outputs": [],
   "source": [
    "from sklearn.ensemble import RandomForestClassifier"
   ]
  },
  {
   "cell_type": "code",
   "execution_count": 48,
   "metadata": {},
   "outputs": [
    {
     "data": {
      "text/plain": [
       "0.6938271604938272"
      ]
     },
     "execution_count": 48,
     "metadata": {},
     "output_type": "execute_result"
    }
   ],
   "source": [
    "clf = RandomForestClassifier(max_depth=3, random_state=0)\n",
    "clf.fit(train_features,train_labels)\n",
    "clf.score(test_features,test_labels)"
   ]
  },
  {
   "cell_type": "code",
   "execution_count": null,
   "metadata": {},
   "outputs": [],
   "source": []
  }
 ],
 "metadata": {
  "kernelspec": {
   "display_name": "Python 3",
   "language": "python",
   "name": "python3"
  },
  "language_info": {
   "codemirror_mode": {
    "name": "ipython",
    "version": 3
   },
   "file_extension": ".py",
   "mimetype": "text/x-python",
   "name": "python",
   "nbconvert_exporter": "python",
   "pygments_lexer": "ipython3",
   "version": "3.7.6"
  }
 },
 "nbformat": 4,
 "nbformat_minor": 4
}
