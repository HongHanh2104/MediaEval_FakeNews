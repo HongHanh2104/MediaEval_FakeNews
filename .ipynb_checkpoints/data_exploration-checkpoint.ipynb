{
 "cells": [
  {
   "cell_type": "code",
   "execution_count": 18,
   "metadata": {},
   "outputs": [],
   "source": [
    "import os\n",
    "import numpy as np\n",
    "import json\n",
    "from PIL import Image\n",
    "import matplotlib.pyplot as plt\n",
    "import random\n",
    "import pandas as pd\n",
    "import seaborn as sns"
   ]
  },
  {
   "cell_type": "markdown",
   "metadata": {},
   "source": [
    "## Convert all images to .png format"
   ]
  },
  {
   "cell_type": "code",
   "execution_count": null,
   "metadata": {},
   "outputs": [],
   "source": [
    "root_path = '/media/honghanh/STORED_DATA/DATA/2020-Fake-News-Detection-Task-master/FakeNews'\n",
    "img_folder = 'images'\n",
    "new_folder = 'new_images'"
   ]
  },
  {
   "cell_type": "code",
   "execution_count": null,
   "metadata": {},
   "outputs": [],
   "source": [
    "img_list = os.listdir(os.path.join(root_path, img_folder))\n",
    "path = os.path.join(root_path, new_folder)\n",
    "if not os.path.exists(path):\n",
    "    os.mkdir(os.path.join(root_path, new_folder))\n",
    "for i in range(len(img_list)):\n",
    "    img_path = os.path.join(root_path, img_folder, img_list[i])\n",
    "    img = Image.open(img_path)\n",
    "    #path = os.path.join(root_path, new_folder)\n",
    "    img_name = img_list[i].split('.')[0]\n",
    "    img.save(path + '/' + img_name + '.png')"
   ]
  },
  {
   "cell_type": "code",
   "execution_count": null,
   "metadata": {},
   "outputs": [],
   "source": [
    "new_img_list = os.listdir(os.path.join(root_path, new_folder))\n",
    "assert len(img_list) == len(new_img_list), \"Error\""
   ]
  },
  {
   "cell_type": "markdown",
   "metadata": {},
   "source": [
    "## Explore data"
   ]
  },
  {
   "cell_type": "code",
   "execution_count": null,
   "metadata": {},
   "outputs": [],
   "source": [
    "files = ['5g_corona_conspiracy.json', 'non_conspiracy.json', 'other_conspiracy.json']"
   ]
  },
  {
   "cell_type": "markdown",
   "metadata": {},
   "source": [
    "#### 5g_corona_conspiracy"
   ]
  },
  {
   "cell_type": "code",
   "execution_count": null,
   "metadata": {},
   "outputs": [],
   "source": [
    "file_path = os.path.join(root_path, files[0])\n",
    "with open(file_path) as f:\n",
    "    data = json.load(f)\n",
    "data[0].keys()"
   ]
  },
  {
   "cell_type": "code",
   "execution_count": null,
   "metadata": {},
   "outputs": [],
   "source": [
    "data[0]"
   ]
  },
  {
   "cell_type": "code",
   "execution_count": null,
   "metadata": {},
   "outputs": [],
   "source": [
    "val = random.choices(data, k=20)\n",
    "for i in range(len(val)):\n",
    "    text = data[i]['full_text']\n",
    "    name = data[i]['id_str'] + '.png'\n",
    "    path = os.path.join(root_path, new_folder, name)\n",
    "    if os.path.exists(path):\n",
    "        print(str(i) + ': #########################')\n",
    "        print(text)\n",
    "        img = Image.open(path)\n",
    "        plt.imshow(img)\n",
    "        plt.show()\n",
    "    "
   ]
  },
  {
   "cell_type": "markdown",
   "metadata": {},
   "source": [
    "### non_conspiracy"
   ]
  },
  {
   "cell_type": "code",
   "execution_count": null,
   "metadata": {},
   "outputs": [],
   "source": [
    "file_path = os.path.join(root_path, files[1])\n",
    "with open(file_path) as f:\n",
    "    data = json.load(f)\n",
    "val = random.choices(data, k=20)\n",
    "for i in range(len(val)):\n",
    "    text = data[i]['full_text']\n",
    "    name = data[i]['id_str'] + '.png'\n",
    "    path = os.path.join(root_path, new_folder, name)\n",
    "    if os.path.exists(path):\n",
    "        print(str(i) + ': #########################')\n",
    "        print(text)\n",
    "        img = Image.open(path)\n",
    "        plt.imshow(img)\n",
    "        plt.show()"
   ]
  },
  {
   "cell_type": "markdown",
   "metadata": {},
   "source": [
    "### other_conspiracy"
   ]
  },
  {
   "cell_type": "code",
   "execution_count": null,
   "metadata": {},
   "outputs": [],
   "source": [
    "file_path = os.path.join(root_path, files[2])\n",
    "with open(file_path) as f:\n",
    "    data = json.load(f)\n",
    "val = random.choices(data, k=20)\n",
    "for i in range(len(val)):\n",
    "    text = data[i]['full_text']\n",
    "    name = data[i]['id_str'] + '.png'\n",
    "    path = os.path.join(root_path, new_folder, name)\n",
    "    if os.path.exists(path):\n",
    "        print(str(i) + ': #########################')\n",
    "        print(text)\n",
    "        img = Image.open(path)\n",
    "        plt.imshow(img)\n",
    "        plt.show()"
   ]
  },
  {
   "cell_type": "markdown",
   "metadata": {},
   "source": [
    "## Data Analysis"
   ]
  },
  {
   "cell_type": "code",
   "execution_count": 201,
   "metadata": {},
   "outputs": [],
   "source": [
    "from ekphrasis.classes.segmenter import Segmenter\n",
    "root_path = './data'\n",
    "train_filename = 'cleaned_train_train.csv'\n",
    "val_filename = 'cleaned_train_val.csv'\n",
    "train_df = pd.read_csv(os.path.join(root_path, train_filename))\n",
    "val_df = pd.read_csv(os.path.join(root_path, val_filename))"
   ]
  },
  {
   "cell_type": "code",
   "execution_count": 62,
   "metadata": {},
   "outputs": [
    {
     "data": {
      "text/html": [
       "<div>\n",
       "<style scoped>\n",
       "    .dataframe tbody tr th:only-of-type {\n",
       "        vertical-align: middle;\n",
       "    }\n",
       "\n",
       "    .dataframe tbody tr th {\n",
       "        vertical-align: top;\n",
       "    }\n",
       "\n",
       "    .dataframe thead th {\n",
       "        text-align: right;\n",
       "    }\n",
       "</style>\n",
       "<table border=\"1\" class=\"dataframe\">\n",
       "  <thead>\n",
       "    <tr style=\"text-align: right;\">\n",
       "      <th></th>\n",
       "      <th>ID</th>\n",
       "      <th>Text</th>\n",
       "      <th>Label</th>\n",
       "      <th>hashtag</th>\n",
       "      <th>Cleaned_Text</th>\n",
       "      <th>Unstop_Text</th>\n",
       "    </tr>\n",
       "  </thead>\n",
       "  <tbody>\n",
       "    <tr>\n",
       "      <th>0</th>\n",
       "      <td>1255955405601193984</td>\n",
       "      <td>@SputnikInt these scientists are  wrong 5g rad...</td>\n",
       "      <td>1</td>\n",
       "      <td>[]</td>\n",
       "      <td>these scientists are wrong 5g radiation affec...</td>\n",
       "      <td>scientists wrong 5g radiation affects oxygen p...</td>\n",
       "    </tr>\n",
       "    <tr>\n",
       "      <th>1</th>\n",
       "      <td>1245407976598286337</td>\n",
       "      <td>I have just finished watching your virtual lec...</td>\n",
       "      <td>3</td>\n",
       "      <td>[]</td>\n",
       "      <td>i have just finished watching your virtual lec...</td>\n",
       "      <td>finished watching virtual lecture 5g illuminat...</td>\n",
       "    </tr>\n",
       "    <tr>\n",
       "      <th>2</th>\n",
       "      <td>1257046060175896582</td>\n",
       "      <td>Coincidence that 5G (never tested) rollouts in...</td>\n",
       "      <td>1</td>\n",
       "      <td>[]</td>\n",
       "      <td>coincidence that 5g (never tested ) rollouts i...</td>\n",
       "      <td>coincidence 5g never tested rollouts china vir...</td>\n",
       "    </tr>\n",
       "    <tr>\n",
       "      <th>3</th>\n",
       "      <td>1237545921161785344</td>\n",
       "      <td>#Thread on why the #5G #coronavirus conspiracy...</td>\n",
       "      <td>1</td>\n",
       "      <td>['Thread', '5G', 'coronavirus', 'conspiracy', ...</td>\n",
       "      <td>on why the 5g coronavirus conspiracy is absur...</td>\n",
       "      <td>5g coronavirus conspiracy absurd conspiracy lo...</td>\n",
       "    </tr>\n",
       "    <tr>\n",
       "      <th>4</th>\n",
       "      <td>1246359393849020417</td>\n",
       "      <td>@johncusackk YOU ARE CORRECT ABOUT 5G \"5G radi...</td>\n",
       "      <td>3</td>\n",
       "      <td>[]</td>\n",
       "      <td>you are correct about 5g \"5g radiation and th...</td>\n",
       "      <td>correct 5g 5g radiation covid19 pandemic coinc...</td>\n",
       "    </tr>\n",
       "  </tbody>\n",
       "</table>\n",
       "</div>"
      ],
      "text/plain": [
       "                    ID                                               Text  \\\n",
       "0  1255955405601193984  @SputnikInt these scientists are  wrong 5g rad...   \n",
       "1  1245407976598286337  I have just finished watching your virtual lec...   \n",
       "2  1257046060175896582  Coincidence that 5G (never tested) rollouts in...   \n",
       "3  1237545921161785344  #Thread on why the #5G #coronavirus conspiracy...   \n",
       "4  1246359393849020417  @johncusackk YOU ARE CORRECT ABOUT 5G \"5G radi...   \n",
       "\n",
       "   Label                                            hashtag  \\\n",
       "0      1                                                 []   \n",
       "1      3                                                 []   \n",
       "2      1                                                 []   \n",
       "3      1  ['Thread', '5G', 'coronavirus', 'conspiracy', ...   \n",
       "4      3                                                 []   \n",
       "\n",
       "                                        Cleaned_Text  \\\n",
       "0   these scientists are wrong 5g radiation affec...   \n",
       "1  i have just finished watching your virtual lec...   \n",
       "2  coincidence that 5g (never tested ) rollouts i...   \n",
       "3   on why the 5g coronavirus conspiracy is absur...   \n",
       "4   you are correct about 5g \"5g radiation and th...   \n",
       "\n",
       "                                         Unstop_Text  \n",
       "0  scientists wrong 5g radiation affects oxygen p...  \n",
       "1  finished watching virtual lecture 5g illuminat...  \n",
       "2  coincidence 5g never tested rollouts china vir...  \n",
       "3  5g coronavirus conspiracy absurd conspiracy lo...  \n",
       "4  correct 5g 5g radiation covid19 pandemic coinc...  "
      ]
     },
     "execution_count": 62,
     "metadata": {},
     "output_type": "execute_result"
    }
   ],
   "source": [
    "val_df.head(5)"
   ]
  },
  {
   "cell_type": "code",
   "execution_count": 118,
   "metadata": {},
   "outputs": [
    {
     "name": "stdout",
     "output_type": "stream",
     "text": [
      "india gmt 2020get short url new delhi sputnik india set go forward 5g trials january year stand indefinitely delayed coronavirus outbreak making use extra time indian ########## 3\n",
      "##################################################\n",
      "India\n",
      "13:55  GMT 05.03.2020Get short URL\n",
      "\n",
      "New Delhi (Sputnik): India was set to go forward with its 5G trials in January this year, but they stand indefinitely delayed because of the coronavirus outbreak. Making use of the extra time, Indian ...\n",
      " \n",
      "https://t.co/VS5ntJLR0Q https://t.co/uGogsKXOSS\n"
     ]
    }
   ],
   "source": [
    "print(train_df['Unstop_Text'][1587], '#'*10, train_df['Label'][4043])\n",
    "print('#'*50)\n",
    "print(train_df['Text'][1587])"
   ]
  },
  {
   "cell_type": "code",
   "execution_count": 120,
   "metadata": {},
   "outputs": [
    {
     "data": {
      "text/plain": [
       "<matplotlib.axes._subplots.AxesSubplot at 0x7f50f423c490>"
      ]
     },
     "execution_count": 120,
     "metadata": {},
     "output_type": "execute_result"
    },
    {
     "data": {
      "image/png": "[encoded data removed]",
      "text/plain": [
       "<Figure size 432x288 with 1 Axes>"
      ]
     },
     "metadata": {
      "needs_background": "light"
     },
     "output_type": "display_data"
    }
   ],
   "source": [
    "sns.countplot(x='Label', data=val_df, palette='hls')"
   ]
  },
  {
   "cell_type": "code",
   "execution_count": 121,
   "metadata": {},
   "outputs": [
    {
     "data": {
      "text/plain": [
       "<matplotlib.axes._subplots.AxesSubplot at 0x7f50f47b2a90>"
      ]
     },
     "execution_count": 121,
     "metadata": {},
     "output_type": "execute_result"
    },
    {
     "data": {
      "image/png": "[encoded data removed]",
      "text/plain": [
       "<Figure size 432x288 with 1 Axes>"
      ]
     },
     "metadata": {
      "needs_background": "light"
     },
     "output_type": "display_data"
    }
   ],
   "source": [
    "sns.countplot(x='Label', data=train_df, palette='hls')"
   ]
  },
  {
   "cell_type": "markdown",
   "metadata": {},
   "source": [
    "## Count the frequency of words"
   ]
  },
  {
   "cell_type": "markdown",
   "metadata": {},
   "source": [
    "### Train dataset"
   ]
  },
  {
   "cell_type": "code",
   "execution_count": 31,
   "metadata": {},
   "outputs": [],
   "source": [
    "from sklearn.feature_extraction.text import CountVectorizer\n",
    "from sklearn.feature_extraction.text import TfidfTransformer\n",
    "from sklearn.feature_extraction.text import TfidfVectorizer"
   ]
  },
  {
   "cell_type": "code",
   "execution_count": 177,
   "metadata": {},
   "outputs": [],
   "source": [
    "def count_frequence(data):\n",
    "    counter = CountVectorizer()\n",
    "    train_counter = counter.fit_transform(data.values)\n",
    "    word_list = counter.get_feature_names()\n",
    "    count_list = train_counter.toarray().sum(axis=0)\n",
    "    train_count_dict = dict(zip(word_list, count_list))\n",
    "    return train_counter, {key: val for key, val in sorted(train_count_dict.items(), key=lambda item: item[1], reverse=True)}"
   ]
  },
  {
   "cell_type": "code",
   "execution_count": null,
   "metadata": {},
   "outputs": [],
   "source": []
  },
  {
   "cell_type": "code",
   "execution_count": 178,
   "metadata": {},
   "outputs": [
    {
     "data": {
      "text/plain": [
       "[('5g', 723),\n",
       " ('coronavirus', 302),\n",
       " ('people', 165),\n",
       " ('covid19', 147),\n",
       " ('amp', 107),\n",
       " ('conspiracy', 107),\n",
       " ('virus', 107),\n",
       " ('us', 98),\n",
       " ('world', 86),\n",
       " ('corona', 83)]"
      ]
     },
     "execution_count": 178,
     "metadata": {},
     "output_type": "execute_result"
    }
   ],
   "source": [
    "label1_cvec, train_label1_counter = count_frequence(train_df[train_df['Label'] == 1]['Unstop_Text'])\n",
    "top_10 = list(train_label1_counter.items())[:10]\n",
    "top_10"
   ]
  },
  {
   "cell_type": "code",
   "execution_count": 179,
   "metadata": {},
   "outputs": [
    {
     "data": {
      "text/plain": [
       "[('5g', 474),\n",
       " ('coronavirus', 217),\n",
       " ('people', 137),\n",
       " ('conspiracy', 95),\n",
       " ('covid19', 79),\n",
       " ('amp', 78),\n",
       " ('virus', 69),\n",
       " ('corona', 64),\n",
       " ('one', 51),\n",
       " ('us', 47)]"
      ]
     },
     "execution_count": 179,
     "metadata": {},
     "output_type": "execute_result"
    }
   ],
   "source": [
    "label2_cvec, train_label2_counter = count_frequence(train_df[train_df['Label'] == 2]['Unstop_Text'])\n",
    "top_10 = list(train_label2_counter.items())[:10]\n",
    "top_10"
   ]
  },
  {
   "cell_type": "code",
   "execution_count": 180,
   "metadata": {},
   "outputs": [
    {
     "data": {
      "text/plain": [
       "[('5g', 2749),\n",
       " ('coronavirus', 1192),\n",
       " ('people', 696),\n",
       " ('covid19', 508),\n",
       " ('virus', 447),\n",
       " ('conspiracy', 386),\n",
       " ('amp', 374),\n",
       " ('corona', 341),\n",
       " ('china', 265),\n",
       " ('us', 265)]"
      ]
     },
     "execution_count": 180,
     "metadata": {},
     "output_type": "execute_result"
    }
   ],
   "source": [
    "label3_cvec, train_label3_counter = count_frequence(train_df[train_df['Label'] == 3]['Unstop_Text'])\n",
    "top_10 = list(train_label3_counter.items())[:10]\n",
    "top_10"
   ]
  },
  {
   "cell_type": "markdown",
   "metadata": {},
   "source": [
    "## Count part of speech"
   ]
  },
  {
   "cell_type": "code",
   "execution_count": 143,
   "metadata": {},
   "outputs": [
    {
     "name": "stderr",
     "output_type": "stream",
     "text": [
      "[nltk_data] Downloading package averaged_perceptron_tagger to\n",
      "[nltk_data]     /home/honghanh/nltk_data...\n",
      "[nltk_data]   Unzipping taggers/averaged_perceptron_tagger.zip.\n"
     ]
    },
    {
     "data": {
      "text/plain": [
       "True"
      ]
     },
     "execution_count": 143,
     "metadata": {},
     "output_type": "execute_result"
    }
   ],
   "source": [
    "from nltk.corpus import brown\n",
    "from collections import Counter\n",
    "import nltk\n",
    "nltk.download('averaged_perceptron_tagger')"
   ]
  },
  {
   "cell_type": "code",
   "execution_count": 155,
   "metadata": {},
   "outputs": [],
   "source": [
    "def count_SOP(data):\n",
    "    counts = Counter()\n",
    "    for sentence in data:\n",
    "        tokens = nltk.word_tokenize(sentence)\n",
    "        tags = nltk.pos_tag(tokens)\n",
    "        counts.update(tag for word, tag in tags)\n",
    "    return dict(counts)"
   ]
  },
  {
   "cell_type": "code",
   "execution_count": 165,
   "metadata": {},
   "outputs": [],
   "source": [
    "def find_common_SOP(adict):\n",
    "    new_dict = {\n",
    "        'Noun': 0,\n",
    "        'Verb': 0,\n",
    "        'ADJ': 0,\n",
    "        'ADV': 0,\n",
    "        'PREP': 0,\n",
    "    }\n",
    "    for k, v in adict.items():\n",
    "        if k in ['NN', 'NNS', 'NNP', 'NNPS']:\n",
    "            new_dict['Noun'] += v\n",
    "        elif k in ['TO', 'VB', 'VBD', 'VBG', 'VBN', 'VBP', 'VBZ']:\n",
    "            new_dict['Verb'] += v\n",
    "        elif k in ['JJ', 'JJR', 'JJS']:\n",
    "            new_dict['ADJ'] += v\n",
    "        elif k in ['RB', 'RBR', 'RBS']:\n",
    "            new_dict['ADV'] += v\n",
    "        elif k in ['IN', 'CC']:\n",
    "            new_dict['PREP'] += v\n",
    "    return new_dict"
   ]
  },
  {
   "cell_type": "code",
   "execution_count": 166,
   "metadata": {},
   "outputs": [],
   "source": [
    "def draw_sop_count(adict):\n",
    "    keys = adict.keys()\n",
    "    values = adict.values()\n",
    "    plt.bar(keys, values)\n",
    "    plt.show()"
   ]
  },
  {
   "cell_type": "code",
   "execution_count": 168,
   "metadata": {},
   "outputs": [],
   "source": [
    "train_label1_sop = find_common_SOP(count_SOP(train_df[train_df['Label'] == 1]['Unstop_Text']))\n",
    "train_label2_sop = find_common_SOP(count_SOP(train_df[train_df['Label'] == 2]['Unstop_Text']))\n",
    "train_label3_sop = find_common_SOP(count_SOP(train_df[train_df['Label'] == 3]['Unstop_Text']))"
   ]
  },
  {
   "cell_type": "code",
   "execution_count": 169,
   "metadata": {},
   "outputs": [
    {
     "data": {
      "image/png": "[encoded data removed]",
      "text/plain": [
       "<Figure size 432x288 with 1 Axes>"
      ]
     },
     "metadata": {
      "needs_background": "light"
     },
     "output_type": "display_data"
    }
   ],
   "source": [
    "draw_sop_count(train_label1_sop)"
   ]
  },
  {
   "cell_type": "code",
   "execution_count": 170,
   "metadata": {},
   "outputs": [
    {
     "data": {
      "image/png": "[encoded data removed]",
      "text/plain": [
       "<Figure size 432x288 with 1 Axes>"
      ]
     },
     "metadata": {
      "needs_background": "light"
     },
     "output_type": "display_data"
    }
   ],
   "source": [
    "draw_sop_count(train_label2_sop)"
   ]
  },
  {
   "cell_type": "code",
   "execution_count": 171,
   "metadata": {},
   "outputs": [
    {
     "data": {
      "image/png": "[encoded data removed]",
      "text/plain": [
       "<Figure size 432x288 with 1 Axes>"
      ]
     },
     "metadata": {
      "needs_background": "light"
     },
     "output_type": "display_data"
    }
   ],
   "source": [
    "draw_sop_count(train_label3_sop)"
   ]
  },
  {
   "cell_type": "code",
   "execution_count": 181,
   "metadata": {},
   "outputs": [
    {
     "name": "stdout",
     "output_type": "stream",
     "text": [
      "(910, 5340)\n",
      "(581, 3841)\n",
      "(3368, 11273)\n"
     ]
    }
   ],
   "source": [
    "print(label1_cvec.shape)\n",
    "print(label2_cvec.shape)\n",
    "print(label3_cvec.shape)"
   ]
  },
  {
   "cell_type": "markdown",
   "metadata": {},
   "source": [
    "# TF-IDF"
   ]
  },
  {
   "cell_type": "code",
   "execution_count": 184,
   "metadata": {},
   "outputs": [],
   "source": [
    "train_cvec, counter = count_frequence(train_df['Unstop_Text'])"
   ]
  },
  {
   "cell_type": "code",
   "execution_count": 185,
   "metadata": {},
   "outputs": [],
   "source": [
    "# tfidf_vec = TfidfTransformer()\n",
    "# train_tfidf_vec = tfidf_vec.fit_transform(train_cvec)"
   ]
  },
  {
   "cell_type": "code",
   "execution_count": 187,
   "metadata": {},
   "outputs": [
    {
     "data": {
      "text/plain": [
       "<4859x13792 sparse matrix of type '<class 'numpy.float64'>'\n",
       "\twith 82449 stored elements in Compressed Sparse Row format>"
      ]
     },
     "execution_count": 187,
     "metadata": {},
     "output_type": "execute_result"
    }
   ],
   "source": [
    "# # tfidf score\n",
    "# tfidf_vec.transform(train_cvec)"
   ]
  },
  {
   "cell_type": "code",
   "execution_count": 261,
   "metadata": {},
   "outputs": [],
   "source": [
    "tfidf_vectorizer = TfidfVectorizer(stop_words='english', ngram_range=(1,2), use_idf=True, smooth_idf=True)\n",
    "tfidf_vectors = tfidf_vectorizer.fit_transform(train_df['Unstop_Text'])\n",
    "#val_tfidf_vectors = tfidf_vectorizer.fit_transform(val_df['Unstop_Text'])"
   ]
  },
  {
   "cell_type": "code",
   "execution_count": 265,
   "metadata": {},
   "outputs": [],
   "source": [
    "train_features, test_features = tfidf_vectors[:3887,], tfidf_vectors[3888:,]\n",
    "train_labels, test_labels = train_df['Label'][:3887], train_df['Label'][3888:]"
   ]
  },
  {
   "cell_type": "code",
   "execution_count": 243,
   "metadata": {},
   "outputs": [],
   "source": [
    "from sklearn import linear_model"
   ]
  },
  {
   "cell_type": "code",
   "execution_count": 271,
   "metadata": {},
   "outputs": [],
   "source": [
    "logistic = linear_model.LogisticRegression()\n",
    "logistic_net = logistic.fit(train_features, train_labels)"
   ]
  },
  {
   "cell_type": "code",
   "execution_count": 272,
   "metadata": {},
   "outputs": [
    {
     "data": {
      "text/plain": [
       "0.709577754891864"
      ]
     },
     "execution_count": 272,
     "metadata": {},
     "output_type": "execute_result"
    }
   ],
   "source": [
    "logistic_net.score(test_features, test_labels)"
   ]
  },
  {
   "cell_type": "code",
   "execution_count": 273,
   "metadata": {},
   "outputs": [
    {
     "data": {
      "text/plain": [
       "array([3, 3, 3, 3, 3, 3, 3, 3, 3, 3, 3, 3, 3, 3, 3, 3, 3, 3, 3, 3, 3, 3,\n",
       "       3, 3, 3, 3, 3, 3, 3, 3, 3, 3, 3, 3, 3, 3, 3, 3, 3, 3, 3, 3, 3, 3,\n",
       "       3, 3, 3, 3, 3, 3, 3, 3, 3, 3, 3, 3, 3, 3, 3, 3, 3, 3, 3, 3, 3, 3,\n",
       "       3, 3, 3, 3, 3, 3, 3, 3, 3, 3, 3, 3, 3, 3, 3, 3, 3, 3, 3, 3, 3, 3,\n",
       "       3, 3, 3, 3, 3, 3, 3, 3, 3, 3, 3, 3, 3, 3, 3, 1, 3, 3, 3, 3, 3, 3,\n",
       "       3, 3, 3, 3, 3, 3, 3, 3, 3, 3, 3, 3, 3, 3, 3, 3, 3, 3, 3, 3, 3, 3,\n",
       "       3, 3, 3, 3, 3, 3, 3, 3, 3, 3, 3, 3, 3, 3, 3, 3, 3, 3, 3, 3, 3, 3,\n",
       "       3, 3, 3, 1, 3, 3, 3, 3, 3, 3, 3, 3, 3, 3, 3, 3, 3, 3, 3, 3, 3, 3,\n",
       "       3, 3, 3, 3, 3, 3, 3, 3, 3, 3, 3, 3, 3, 3, 3, 3, 3, 3, 3, 3, 3, 3,\n",
       "       3, 3, 3, 3, 3, 3, 3, 3, 3, 3, 3, 3, 3, 3, 3, 3, 3, 3, 3, 3, 3, 3,\n",
       "       3, 3, 3, 3, 3, 3, 3, 3, 3, 3, 3, 3, 3, 3, 3, 3, 3, 3, 3, 3, 3, 3,\n",
       "       3, 3, 3, 3, 3, 3, 3, 3, 3, 3, 3, 3, 3, 3, 3, 3, 3, 3, 3, 3, 3, 3,\n",
       "       3, 3, 3, 3, 3, 3, 3, 3, 3, 3, 3, 3, 3, 3, 3, 3, 3, 3, 3, 3, 3, 3,\n",
       "       3, 3, 3, 3, 3, 3, 3, 3, 3, 3, 3, 3, 3, 3, 3, 3, 3, 3, 3, 3, 3, 3,\n",
       "       3, 3, 3, 3, 3, 3, 3, 3, 3, 3, 3, 3, 3, 3, 3, 3, 3, 3, 3, 3, 3, 3,\n",
       "       3, 3, 3, 3, 3, 3, 3, 3, 3, 3, 3, 3, 3, 3, 3, 3, 3, 3, 3, 3, 3, 3,\n",
       "       3, 3, 3, 3, 3, 3, 3, 3, 3, 3, 3, 3, 3, 3, 3, 3, 3, 3, 3, 3, 3, 3,\n",
       "       3, 3, 3, 3, 3, 3, 3, 3, 3, 3, 3, 3, 3, 3, 3, 3, 3, 3, 3, 3, 3, 3,\n",
       "       3, 3, 3, 3, 3, 3, 3, 3, 3, 3, 3, 3, 3, 3, 3, 3, 3, 3, 3, 3, 3, 3,\n",
       "       3, 3, 3, 3, 3, 3, 3, 3, 3, 3, 3, 3, 3, 3, 3, 3, 3, 3, 3, 3, 3, 3,\n",
       "       3, 3, 3, 3, 3, 3, 3, 3, 3, 3, 3, 3, 3, 3, 3, 3, 3, 3, 3, 3, 3, 3,\n",
       "       3, 3, 3, 3, 3, 3, 3, 3, 3, 3, 3, 3, 3, 3, 3, 3, 3, 3, 3, 3, 3, 3,\n",
       "       3, 3, 3, 3, 3, 3, 3, 3, 3, 3, 3, 3, 3, 3, 3, 3, 3, 3, 3, 3, 3, 3,\n",
       "       3, 3, 3, 3, 3, 3, 3, 3, 3, 3, 3, 3, 3, 3, 3, 3, 3, 3, 3, 3, 3, 3,\n",
       "       3, 3, 3, 3, 3, 3, 3, 3, 3, 3, 3, 3, 3, 3, 3, 3, 3, 3, 3, 3, 3, 3,\n",
       "       3, 3, 3, 3, 3, 3, 3, 3, 3, 3, 3, 3, 3, 3, 3, 3, 3, 3, 3, 3, 3, 3,\n",
       "       3, 3, 3, 3, 3, 3, 3, 3, 3, 3, 3, 3, 3, 3, 3, 3, 3, 3, 3, 3, 3, 3,\n",
       "       3, 3, 3, 3, 3, 3, 3, 3, 3, 3, 3, 3, 3, 3, 3, 3, 3, 3, 3, 3, 3, 3,\n",
       "       3, 3, 3, 3, 3, 3, 3, 3, 3, 3, 3, 3, 3, 3, 3, 3, 3, 3, 3, 3, 3, 3,\n",
       "       3, 3, 3, 3, 3, 3, 3, 3, 3, 3, 3, 3, 3, 3, 3, 3, 3, 3, 3, 3, 3, 3,\n",
       "       3, 3, 3, 3, 3, 3, 3, 3, 3, 3, 3, 3, 3, 3, 3, 3, 3, 3, 3, 3, 3, 3,\n",
       "       3, 3, 3, 3, 3, 3, 3, 3, 3, 3, 3, 3, 3, 3, 3, 3, 3, 3, 3, 3, 3, 3,\n",
       "       3, 3, 3, 3, 3, 3, 3, 3, 3, 3, 3, 3, 3, 3, 3, 3, 3, 3, 3, 3, 3, 3,\n",
       "       3, 3, 3, 3, 3, 3, 3, 3, 3, 3, 3, 3, 3, 3, 3, 3, 3, 3, 3, 3, 3, 3,\n",
       "       3, 3, 3, 3, 3, 3, 3, 3, 3, 3, 3, 3, 3, 3, 3, 3, 3, 3, 3, 3, 3, 3,\n",
       "       3, 3, 3, 3, 3, 3, 3, 3, 3, 3, 3, 3, 3, 3, 3, 3, 3, 3, 3, 3, 3, 3,\n",
       "       3, 3, 3, 3, 3, 3, 3, 3, 3, 3, 3, 3, 3, 3, 3, 3, 3, 3, 3, 3, 3, 3,\n",
       "       3, 3, 3, 3, 3, 3, 3, 3, 3, 3, 3, 3, 3, 3, 3, 3, 3, 3, 3, 3, 3, 3,\n",
       "       3, 3, 3, 3, 3, 3, 3, 3, 3, 3, 3, 3, 3, 3, 3, 3, 3, 3, 3, 3, 3, 3,\n",
       "       3, 3, 3, 3, 3, 3, 3, 3, 3, 3, 3, 3, 3, 3, 3, 3, 3, 3, 1, 3, 3, 3,\n",
       "       3, 3, 3, 3, 3, 3, 3, 3, 3, 3, 3, 3, 3, 3, 3, 3, 3, 3, 3, 3, 3, 3,\n",
       "       3, 3, 3, 3, 3, 3, 3, 3, 3, 3, 3, 3, 3, 3, 3, 3, 3, 3, 3, 3, 3, 3,\n",
       "       3, 3, 3, 3, 3, 3, 3, 3, 3, 3, 3, 3, 3, 3, 3, 3, 3, 3, 3, 3, 3, 3,\n",
       "       3, 3, 3, 3, 3, 3, 3, 3, 3, 3, 3, 3, 3, 3, 3, 3, 3, 3, 3, 3, 3, 3,\n",
       "       3, 3, 3])"
      ]
     },
     "execution_count": 273,
     "metadata": {},
     "output_type": "execute_result"
    }
   ],
   "source": [
    "pred = logistic_net.predict(test_features)\n",
    "pred"
   ]
  },
  {
   "cell_type": "code",
   "execution_count": 247,
   "metadata": {},
   "outputs": [],
   "source": [
    "from sklearn.naive_bayes import MultinomialNB"
   ]
  },
  {
   "cell_type": "code",
   "execution_count": 268,
   "metadata": {},
   "outputs": [
    {
     "data": {
      "text/plain": [
       "0.7116374871266735"
      ]
     },
     "execution_count": 268,
     "metadata": {},
     "output_type": "execute_result"
    }
   ],
   "source": [
    "mnb = MultinomialNB()\n",
    "mnb.fit(train_features, train_labels)\n",
    "mnb.score(test_features, test_labels)"
   ]
  },
  {
   "cell_type": "code",
   "execution_count": 258,
   "metadata": {},
   "outputs": [],
   "source": [
    "from sklearn.ensemble import RandomForestClassifier"
   ]
  },
  {
   "cell_type": "code",
   "execution_count": 269,
   "metadata": {},
   "outputs": [
    {
     "data": {
      "text/plain": [
       "0.7116374871266735"
      ]
     },
     "execution_count": 269,
     "metadata": {},
     "output_type": "execute_result"
    }
   ],
   "source": [
    "clf = RandomForestClassifier(max_depth=3, random_state=0)\n",
    "clf.fit(train_features,train_labels)\n",
    "clf.score(test_features,test_labels)"
   ]
  },
  {
   "cell_type": "code",
   "execution_count": null,
   "metadata": {},
   "outputs": [],
   "source": []
  }
 ],
 "metadata": {
  "kernelspec": {
   "display_name": "Python 3",
   "language": "python",
   "name": "python3"
  },
  "language_info": {
   "codemirror_mode": {
    "name": "ipython",
    "version": 3
   },
   "file_extension": ".py",
   "mimetype": "text/x-python",
   "name": "python",
   "nbconvert_exporter": "python",
   "pygments_lexer": "ipython3",
   "version": "3.7.6"
  }
 },
 "nbformat": 4,
 "nbformat_minor": 4
}
